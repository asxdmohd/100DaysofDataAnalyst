{
 "cells": [
  {
   "cell_type": "code",
   "execution_count": 3,
   "id": "ef231edb",
   "metadata": {},
   "outputs": [
    {
     "name": "stdout",
     "output_type": "stream",
     "text": [
      "Hello\n",
      "Hello World \n"
     ]
    }
   ],
   "source": [
    "# Print function in python \n",
    "print(\"Hello\")\n",
    "\n",
    "# In python there is a built in function to print, called print()\n",
    "# Example : \n",
    "\n",
    "print (\"Hello World \")"
   ]
  },
  {
   "cell_type": "code",
   "execution_count": 5,
   "id": "a8cbd76a",
   "metadata": {},
   "outputs": [
    {
     "name": "stdout",
     "output_type": "stream",
     "text": [
      "Hello 1 1.5 False (5+6j)\n"
     ]
    }
   ],
   "source": [
    "# Can print multiple data-type in one go \n",
    "print(\"Hello\", 1, 1.5, False, 5+6j)"
   ]
  },
  {
   "cell_type": "code",
   "execution_count": 8,
   "id": "107cc16a",
   "metadata": {},
   "outputs": [
    {
     "name": "stdout",
     "output_type": "stream",
     "text": [
      "\n",
      "Hello/1/1.5/False/(5+6j)\n"
     ]
    }
   ],
   "source": [
    "print() # To check the documentation of the inbuilt function press shift+Tab \n",
    "\n",
    "#print(value, ..., sep=' ', end='\\n', file=sys.stdout, flush=False)\n",
    "\n",
    "print(\"Hello\", 1, 1.5, False, 5+6j, sep=\"/\")\n",
    "\n",
    "#sep=\"\" --> it is the parameter which seperates value in the print function, by default it is seperated by space"
   ]
  },
  {
   "cell_type": "code",
   "execution_count": 13,
   "id": "13aed641",
   "metadata": {},
   "outputs": [
    {
     "name": "stdout",
     "output_type": "stream",
     "text": [
      "hello world\n",
      "\n"
     ]
    }
   ],
   "source": [
    "print(\"hello\", end=\" \") #end =\\n by default it is for new line \n",
    "print(\"world\")\n",
    "print()"
   ]
  },
  {
   "cell_type": "markdown",
   "id": "f71e9f3d",
   "metadata": {},
   "source": [
    "# DATA TYPES \n",
    "1. Basic ( Integer, Float, Complex, Boolean and string  )\n",
    "2. Container Type (List, Tuples, Sets, Dictionary )\n",
    "3. User Defined Type ( Classes and objects )"
   ]
  },
  {
   "cell_type": "code",
   "execution_count": 25,
   "id": "0b284b33",
   "metadata": {},
   "outputs": [
    {
     "name": "stdout",
     "output_type": "stream",
     "text": [
      "4\n",
      "4.5\n",
      "(4+5j)\n",
      "True False\n",
      "Hello THis is a string\n",
      "Hello \"This is sting\" \n"
     ]
    }
   ],
   "source": [
    "# Integer \n",
    "print (4) \n",
    "\n",
    "#Float \n",
    "print(4.5)\n",
    "\n",
    "#Complex \n",
    "print(4+5j)\n",
    "\n",
    "# Boolean \n",
    "print(True, end=\" \")\n",
    "print(False)\n",
    "\n",
    "#String \n",
    "print (\"Hello THis is a string\")\n",
    "print ('Hello \"This is sting\" ')\n"
   ]
  },
  {
   "cell_type": "code",
   "execution_count": 32,
   "id": "29d5459a",
   "metadata": {},
   "outputs": [
    {
     "name": "stdout",
     "output_type": "stream",
     "text": [
      "[1, 2, 3, 4, 5, 6]\n",
      "(9, 8, 7, 6, 5, 4, 3, 2, 1)\n",
      "{1, 2, 3, 4, 5, 6, 7, 8}\n",
      "{'a': 'hello', 'b': 'Bye'}\n"
     ]
    }
   ],
   "source": [
    "#Container Types \n",
    "\n",
    "#List  CAN BE SAID ARRAY \n",
    "a = [1,2,3,4,5,6,]\n",
    "print(a)\n",
    "\n",
    "#Tuples # IMMUTABLE . CANT CHANGE\n",
    "b = (9,8,7,6,5,4,3,2,1)\n",
    "print(b)\n",
    "\n",
    "#Set \n",
    "c = {1,2,3,4,5,6,7,8}\n",
    "print(c)\n",
    "\n",
    "#Dictionary |KEY VALUE PAIR\n",
    "d = {\"a\":\"hello\", \"b\":\"Bye\"}\n",
    "\n",
    "print(d)"
   ]
  },
  {
   "cell_type": "markdown",
   "id": "ff7b24a0",
   "metadata": {},
   "source": [
    "# COMMENTS IN PYTHON \n",
    "\n",
    "Comments are the code which is not executed and ignored by the interpreter and compiler \n",
    "<br> comments are written to enhance the readability of the program/code "
   ]
  },
  {
   "cell_type": "code",
   "execution_count": 33,
   "id": "97037012",
   "metadata": {},
   "outputs": [],
   "source": [
    "# This is comment , to write comment just write \"#\"\n",
    "# Python doesn't support multiline comment "
   ]
  },
  {
   "cell_type": "markdown",
   "id": "06039fe1",
   "metadata": {},
   "source": [
    "# VARIABLES\n",
    "variables are fundamental concept which is in every programming language. <br> Basically variables are  the container for future use which stores the data "
   ]
  },
  {
   "cell_type": "code",
   "execution_count": 40,
   "id": "d9117330",
   "metadata": {},
   "outputs": [
    {
     "name": "stdout",
     "output_type": "stream",
     "text": [
      "11\n",
      "asad\n"
     ]
    }
   ],
   "source": [
    "a = 5\n",
    "b = 6 \n",
    "\n",
    "# There is no variable declaration in the python whereas in other language such as java we need to declare the variabe. \n",
    "\n",
    "# Dynamic Typing - The type of variable is determined automatically at the run time \n",
    "# Static Typing - The type of variable is to determined beforehand (compile time)\n",
    "sum = a+b\n",
    "print(sum)\n",
    "\n",
    "\n",
    "sum = \"asad\"\n",
    "\n",
    "print(sum)\n",
    "\n",
    "#Dynamic Binding - When a variable can store multiple data types \n",
    "#Static Binding - When a variable can store only one type of data type | example, int a = 4;|\n",
    "\n",
    "# special syntax\n",
    "a=5;b=6;\n",
    "a,b,c = 1,2,3"
   ]
  },
  {
   "cell_type": "markdown",
   "id": "21d390c1",
   "metadata": {},
   "source": [
    "# KEYWORDS\n",
    "\n",
    "In programming language a word that is reserved by a program that has some special meaning. Keywords can be commands or parameters. Every programming has keywords that can not be used as variable names. \n",
    "\n",
    "\n",
    "\n",
    "\n"
   ]
  },
  {
   "cell_type": "code",
   "execution_count": 45,
   "id": "0600d385",
   "metadata": {},
   "outputs": [
    {
     "name": "stdout",
     "output_type": "stream",
     "text": [
      "['False', 'None', 'True', 'and', 'as', 'assert', 'async', 'await', 'break', 'class', 'continue', 'def', 'del', 'elif', 'else', 'except', 'finally', 'for', 'from', 'global', 'if', 'import', 'in', 'is', 'lambda', 'nonlocal', 'not', 'or', 'pass', 'raise', 'return', 'try', 'while', 'with', 'yield']\n"
     ]
    }
   ],
   "source": [
    "import keyword\n",
    "print(keyword.kwlist)"
   ]
  },
  {
   "cell_type": "markdown",
   "id": "c1695a5c",
   "metadata": {},
   "source": [
    "# IDENTIFIERS\n",
    "\n",
    "A python Identifier is a name used to Identify a variable, function, class, module or other object"
   ]
  },
  {
   "cell_type": "code",
   "execution_count": 1,
   "id": "c32ea0f9",
   "metadata": {},
   "outputs": [],
   "source": [
    "#Rules for setting IDENTIFIERS ARE \n",
    "# 1. Can only start with an alphabet or _\n",
    "# 2. Keywords can not be identifiers \n",
    "# 3. Can "
   ]
  },
  {
   "cell_type": "markdown",
   "id": "ec427dc8",
   "metadata": {},
   "source": [
    "# TAKING USER INPUT \n",
    "\n",
    "In the world there are only two types of softwares. (1) Static Software (2) Dynamic Software <br> \n",
    "STATIC SOFTWARES - Software which communicates in uni directional way (Clock , calander, Static Website)  <br>\n",
    "DYNAMIC SOFTWARES - Softwars which comminicates in both way. (takes input and gives ouput) (Ex:- Instagram, google)"
   ]
  },
  {
   "cell_type": "code",
   "execution_count": 5,
   "id": "55cfcb32",
   "metadata": {},
   "outputs": [
    {
     "name": "stdout",
     "output_type": "stream",
     "text": [
      "Tell me your name sd43.\n"
     ]
    },
    {
     "data": {
      "text/plain": [
       "'sd43.'"
      ]
     },
     "execution_count": 5,
     "metadata": {},
     "output_type": "execute_result"
    }
   ],
   "source": [
    "input(\"Tell me your name \") # This is the built in function in python which takes input"
   ]
  },
  {
   "cell_type": "code",
   "execution_count": 19,
   "id": "46f58e45",
   "metadata": {},
   "outputs": [
    {
     "name": "stdout",
     "output_type": "stream",
     "text": [
      "Enter First Num2\n",
      "Enter Second Num2\n",
      "The Sum of 1st Num and 2nd Num is:  4\n"
     ]
    }
   ],
   "source": [
    "first_num=int(input(\"Enter First Num\"))\n",
    "second_num = int(input(\"Enter Second Num\"))\n",
    "result = first_num + second_num \n",
    "\n",
    "#USer input by default always comes in the string format. Because string is the universal acceptable format.\n",
    "# Because it can hold other formats of data type \n",
    "\n",
    "\n",
    "\n",
    "\n",
    "print(\"The Sum of 1st Num and 2nd Num is: \",result)"
   ]
  },
  {
   "cell_type": "code",
   "execution_count": 11,
   "id": "1b1d663c",
   "metadata": {},
   "outputs": [
    {
     "data": {
      "text/plain": [
       "str"
      ]
     },
     "execution_count": 11,
     "metadata": {},
     "output_type": "execute_result"
    }
   ],
   "source": [
    "type(result)\n"
   ]
  },
  {
   "cell_type": "markdown",
   "id": "77c26cfa",
   "metadata": {},
   "source": [
    "# TYPE CONVERSION\n",
    "Converting one data type into another data type is called type conversion. \n",
    "<br> There are 2 types of type conversion <br> Implicit type conversion: When python does the conversion automatically or by itself. <br> Explicit Type Conversion: When user performs the type conversion based on the need manually. "
   ]
  },
  {
   "cell_type": "code",
   "execution_count": 20,
   "id": "5627d0c3",
   "metadata": {},
   "outputs": [
    {
     "name": "stdout",
     "output_type": "stream",
     "text": [
      "13.5\n"
     ]
    }
   ],
   "source": [
    "# Implicit \n",
    "print( 4.5+ 9)"
   ]
  },
  {
   "cell_type": "markdown",
   "id": "9ab6a516",
   "metadata": {},
   "source": [
    "# LITERALS\n",
    "Common concept in every programming language. Literals are basically raw data given to a variable. \n",
    "<br>\n",
    "in python there are 4 types of literals  <br>\n",
    "1. Numeric Literal <br>\n",
    "2. String Literal <br>\n",
    "3. boolean Literal <br>\n",
    "4. String Literal <br>\n",
    "\n"
   ]
  },
  {
   "cell_type": "code",
   "execution_count": 23,
   "id": "adc427ac",
   "metadata": {},
   "outputs": [
    {
     "name": "stdout",
     "output_type": "stream",
     "text": [
      "10 100 200 300\n"
     ]
    }
   ],
   "source": [
    "#NUMERIC LITERAL\n",
    "\n",
    "a = 0b1010 #binary\n",
    "b = 100 #Decimal literal\n",
    "c = 0o310 # octal literal \n",
    "d = 0x12c #hexadecimal\n",
    "print(a,b,c,d)\n"
   ]
  },
  {
   "cell_type": "code",
   "execution_count": 25,
   "id": "a7cdd2f3",
   "metadata": {},
   "outputs": [
    {
     "name": "stdout",
     "output_type": "stream",
     "text": [
      "10.5 150.0 0.0015\n"
     ]
    }
   ],
   "source": [
    "#Float Literal\n",
    "Float_1 = 10.5\n",
    "Float_2 = 1.5e2\n",
    "Float_3 = 1.5e-3\n",
    "print(Float_1, Float_2, Float_3)"
   ]
  },
  {
   "cell_type": "code",
   "execution_count": 32,
   "id": "aee17129",
   "metadata": {},
   "outputs": [],
   "source": [
    "# STRING LITERALS \n",
    "string = 'this is python'\n",
    "string1= \"THis is python\"\n",
    "multiline = ''' HEllo \n",
    "okay \n",
    "fine'''\n",
    "unicode =u\"U+1F970\"\n",
    "raw_str = r\"this is \\n\"\n"
   ]
  },
  {
   "cell_type": "code",
   "execution_count": 35,
   "id": "2a3edbbc",
   "metadata": {},
   "outputs": [
    {
     "name": "stdout",
     "output_type": "stream",
     "text": [
      "5\n",
      "-5\n"
     ]
    }
   ],
   "source": [
    "# BOOLEAN LITERALS\n",
    "a = True +4 \n",
    "print(a)\n",
    "b = True - 6\n",
    "print(b)"
   ]
  },
  {
   "cell_type": "code",
   "execution_count": 36,
   "id": "5cd9b62f",
   "metadata": {},
   "outputs": [
    {
     "name": "stdout",
     "output_type": "stream",
     "text": [
      "None\n"
     ]
    }
   ],
   "source": [
    "# SPECIAL LITERAL \n",
    "None #absence of anything, it is used to declare the variable for the future use. \n",
    "a = None \n",
    "print(a)"
   ]
  },
  {
   "cell_type": "code",
   "execution_count": null,
   "id": "fd573696",
   "metadata": {},
   "outputs": [],
   "source": []
  }
 ],
 "metadata": {
  "kernelspec": {
   "display_name": "Python 3 (ipykernel)",
   "language": "python",
   "name": "python3"
  },
  "language_info": {
   "codemirror_mode": {
    "name": "ipython",
    "version": 3
   },
   "file_extension": ".py",
   "mimetype": "text/x-python",
   "name": "python",
   "nbconvert_exporter": "python",
   "pygments_lexer": "ipython3",
   "version": "3.10.9"
  }
 },
 "nbformat": 4,
 "nbformat_minor": 5
}
