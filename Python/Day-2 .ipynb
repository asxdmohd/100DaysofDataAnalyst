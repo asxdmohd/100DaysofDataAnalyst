{
 "cells": [
  {
   "cell_type": "markdown",
   "id": "a676f471",
   "metadata": {},
   "source": [
    "# OPERATORS\n",
    "\n",
    "Operators are used to performs opertion on varibles and values\n",
    "\n",
    "1. Arithmetic operator\n",
    "2. Compraision operator\n",
    "3. Logical operator\n",
    "4. Bitwise operator\n",
    "5. Assignment operator\n",
    "6. Identity operator\n",
    "7. Membership operator"
   ]
  },
  {
   "cell_type": "code",
   "execution_count": 4,
   "id": "9c212d66",
   "metadata": {},
   "outputs": [
    {
     "name": "stdout",
     "output_type": "stream",
     "text": [
      "11\n",
      "-1\n",
      "30\n",
      "0.8333333333333334\n",
      "5\n",
      "15625\n",
      "0\n"
     ]
    }
   ],
   "source": [
    "# arithmetic operator \n",
    "a= 5\n",
    "b= 6 \n",
    "print(a+b) # Addition \n",
    " \n",
    "print(a-b) # Sub\n",
    "\n",
    "print(a*b) # Multiply\n",
    " \n",
    "print(a/b) # Divide \n",
    "\n",
    "print(a%b) # Modulus \n",
    "\n",
    "print(a**b) # Power to\n",
    "\n",
    "print(a//b) # Integer division \n"
   ]
  },
  {
   "cell_type": "code",
   "execution_count": 13,
   "id": "b6297b5c",
   "metadata": {},
   "outputs": [
    {
     "name": "stdout",
     "output_type": "stream",
     "text": [
      "False\n",
      "True\n",
      "False\n",
      "True\n",
      "False\n",
      "True\n"
     ]
    }
   ],
   "source": [
    "# COMPARISION OPERATOR \n",
    "\n",
    "a = 5\n",
    "b=6\n",
    "print(a>b)\n",
    "print(a<b)\n",
    "print(a==b)\n",
    "print(a!=b)\n",
    "print(a>=b)\n",
    "print(a<=b)\n",
    "\n",
    "\n",
    "\n",
    "\n",
    "\n"
   ]
  },
  {
   "cell_type": "code",
   "execution_count": 19,
   "id": "a4251fad",
   "metadata": {},
   "outputs": [
    {
     "name": "stdout",
     "output_type": "stream",
     "text": [
      "True\n",
      "False\n",
      "False\n"
     ]
    }
   ],
   "source": [
    "# LOGICAL OPERARTOR \n",
    "a = True \n",
    "b= False \n",
    "\n",
    "print (a or b )\n",
    "print (a and b)\n",
    "print( not a)"
   ]
  },
  {
   "cell_type": "code",
   "execution_count": 23,
   "id": "d411fdfb",
   "metadata": {},
   "outputs": [
    {
     "name": "stdout",
     "output_type": "stream",
     "text": [
      "2\n",
      "3\n",
      "0\n",
      "12\n",
      "-4\n"
     ]
    }
   ],
   "source": [
    "# BITWISE OPERATOR \n",
    "a = 3 \n",
    "b = 2 \n",
    "\n",
    "print( a & b) # binary 010 and 110 = 010\n",
    "print( a | y ) # binary patters \"or\"\n",
    "print( a >> 2)\n",
    "print( a << 2)\n",
    "print( ~a)\n"
   ]
  },
  {
   "cell_type": "code",
   "execution_count": 29,
   "id": "44573d32",
   "metadata": {},
   "outputs": [
    {
     "name": "stdout",
     "output_type": "stream",
     "text": [
      "3\n"
     ]
    }
   ],
   "source": [
    "# ASSIGNMENT OPERATOR \n",
    "a = 3 \n",
    "print (a)\n",
    "\n",
    "\n"
   ]
  },
  {
   "cell_type": "code",
   "execution_count": 39,
   "id": "92052ecf",
   "metadata": {},
   "outputs": [
    {
     "name": "stdout",
     "output_type": "stream",
     "text": [
      "True\n",
      "True\n",
      "False\n",
      "True\n"
     ]
    }
   ],
   "source": [
    "# IDENTITY OPERATOR - - it check two variables wether they are at same memory location or not \n",
    "\n",
    "a = 3\n",
    "b = 3\n",
    "print( a is b )\n",
    "\n",
    "\n",
    "# STRING \n",
    "\n",
    "a= \"hello\"\n",
    "b = \"hello\"\n",
    "print( a is b)\n",
    "\n",
    "\n",
    "\n",
    "# LIST\n",
    "\n",
    "a = [1,2,3]\n",
    "b = [1,2,3]\n",
    "\n",
    "print( a is b )\n",
    "print( a is not b )\n",
    "\n",
    "# if two thing are of same value then it is not compulsory that they will be at the same memory location \n",
    "\n"
   ]
  },
  {
   "cell_type": "code",
   "execution_count": 41,
   "id": "4b902685",
   "metadata": {},
   "outputs": [
    {
     "name": "stdout",
     "output_type": "stream",
     "text": [
      "True\n",
      "False\n"
     ]
    }
   ],
   "source": [
    "# MEMBERSHIP OPERATOR - Membership operators tells wether one thing is inside another thing or not. Example:- \n",
    "\n",
    "x = \"Mynameisasadand Ia camce formagfhdbhfhsdhfdjhfjk kshh gerhdeutsc\"\n",
    "\n",
    "print( \"asad\" in x)\n",
    "\n",
    "print( \"asad\" not in x)\n",
    "\n",
    "\n"
   ]
  },
  {
   "cell_type": "markdown",
   "id": "42eae5da",
   "metadata": {},
   "source": [
    "# DECISION CONTROL STATEMENT \n",
    "### IF ELSE STATMENT "
   ]
  },
  {
   "cell_type": "code",
   "execution_count": 49,
   "id": "3831fe34",
   "metadata": {},
   "outputs": [
    {
     "name": "stdout",
     "output_type": "stream",
     "text": [
      "Enter Your Email: asxdmohdgmail.com\n",
      "Email syntax is incorrect, write it again\n"
     ]
    }
   ],
   "source": [
    "# Correct Email - asxdmohd@gmail.com \n",
    "# Correctr password - 1234\n",
    "\n",
    "email = input(\"Enter Your Email: \")\n",
    "if \"@\" in email:\n",
    "    password = input(\"Enter Your Password: \")\n",
    "\n",
    "    if email == \"asxdmohd@gmail.com\" and password == \"1234\":\n",
    "        print(\"Welcome\")\n",
    "    elif email == \"asxdmohd@gmail.com\" and password != \"1234\":\n",
    "        print(\"Password Incorrect\")\n",
    "        password = input(\"Enter Your Password Again: \")\n",
    "        if password == \"1234\":\n",
    "            print(\"Correct! Welcome Abroad\")\n",
    "        else: \n",
    "            print(\"Incorrect Credentials\")\n",
    "\n",
    "    else: \n",
    "        print(\"Incorrect Credentials\")\n",
    "\n",
    "else: \n",
    "    print(\"Email syntax is incorrect\")\n",
    "\n"
   ]
  },
  {
   "cell_type": "markdown",
   "id": "d681d6a8",
   "metadata": {},
   "source": [
    "# INDENTATION - \n",
    "This concept is in python only- example <br>\n",
    "if a > b: <br>\n",
    "  &nbsp;&nbsp;  print(\"a is greater): <br>\n",
    "else: <br>\n",
    "   &nbsp; &nbsp; print( \" b is greater\") <br>\n",
    "    \n",
    "Indentation enhances the code readability "
   ]
  },
  {
   "cell_type": "code",
   "execution_count": null,
   "id": "f43433c5",
   "metadata": {},
   "outputs": [],
   "source": []
  }
 ],
 "metadata": {
  "kernelspec": {
   "display_name": "Python 3 (ipykernel)",
   "language": "python",
   "name": "python3"
  },
  "language_info": {
   "codemirror_mode": {
    "name": "ipython",
    "version": 3
   },
   "file_extension": ".py",
   "mimetype": "text/x-python",
   "name": "python",
   "nbconvert_exporter": "python",
   "pygments_lexer": "ipython3",
   "version": "3.10.9"
  }
 },
 "nbformat": 4,
 "nbformat_minor": 5
}
