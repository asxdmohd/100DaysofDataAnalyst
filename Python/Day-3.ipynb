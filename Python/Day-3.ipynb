{
 "cells": [
  {
   "cell_type": "markdown",
   "id": "a6129a76",
   "metadata": {},
   "source": [
    "# LOOPS\n",
    "ITeration control block. If you want to do a same work repeatedly in programming then you use loops.\n",
    "<br> \n",
    "In python there are only 2 types of loops \n",
    "\n",
    "<br>\n",
    "\n",
    "1. while loop  example:-  \n",
    "2.  for loop"
   ]
  },
  {
   "cell_type": "code",
   "execution_count": null,
   "id": "33dbd374",
   "metadata": {},
   "outputs": [],
   "source": [
    "num = int (input(\"Enter a number: \"))\n",
    "\n",
    "i = 1\n",
    "while i<11:\n",
    "    print(num, \"X\", i, \"=\", num * i)\n",
    "    i+=1"
   ]
  },
  {
   "cell_type": "markdown",
   "id": "288a4160",
   "metadata": {},
   "source": [
    "# REVISION \n"
   ]
  },
  {
   "cell_type": "code",
   "execution_count": 28,
   "id": "267d3619",
   "metadata": {},
   "outputs": [
    {
     "data": {
      "text/plain": [
       "18"
      ]
     },
     "execution_count": 28,
     "metadata": {},
     "output_type": "execute_result"
    }
   ],
   "source": [
    "import random \n",
    "random.randint(1,100)\n",
    "\n"
   ]
  },
  {
   "cell_type": "code",
   "execution_count": 35,
   "id": "b99cbbcc",
   "metadata": {},
   "outputs": [
    {
     "name": "stdout",
     "output_type": "stream",
     "text": [
      "Make a guess: 2\n",
      "Guess Higher\n",
      "Make a guess: 50\n",
      "Guess Higher\n",
      "Make a guess: 70\n",
      "Guess Higher\n",
      "Make a guess: 90\n",
      "Guess Lower\n",
      "Make a guess: 80\n",
      "Guess Higher\n",
      "Make a guess: 85\n",
      "Guess Higher\n",
      "Make a guess: 87\n",
      "Guess Lower\n",
      "Make a guess: 86\n",
      "Correct guess\n",
      "You took 8 Attempts\n"
     ]
    }
   ],
   "source": [
    "jackpot= random.randint(1,100)\n",
    "\n",
    "guess= int(input(\"Make a guess: \"))\n",
    "counter = 1\n",
    "while guess != jackpot:\n",
    "    if guess < jackpot:\n",
    "        print(\"Guess Higher\")\n",
    "    else: \n",
    "        print(\"Guess Lower\")\n",
    "    guess= int(input(\"Make a guess: \"))\n",
    "    counter+=1\n",
    "\n",
    "    \n",
    "print(\"Correct guess\")\n",
    "\n",
    "print(\"You took\", counter , \"Attempts\")\n"
   ]
  },
  {
   "cell_type": "code",
   "execution_count": null,
   "id": "40bbaeb6",
   "metadata": {},
   "outputs": [],
   "source": [
    "\n"
   ]
  },
  {
   "cell_type": "code",
   "execution_count": null,
   "id": "baa6f880",
   "metadata": {},
   "outputs": [],
   "source": []
  }
 ],
 "metadata": {
  "kernelspec": {
   "display_name": "Python 3 (ipykernel)",
   "language": "python",
   "name": "python3"
  },
  "language_info": {
   "codemirror_mode": {
    "name": "ipython",
    "version": 3
   },
   "file_extension": ".py",
   "mimetype": "text/x-python",
   "name": "python",
   "nbconvert_exporter": "python",
   "pygments_lexer": "ipython3",
   "version": "3.10.9"
  }
 },
 "nbformat": 4,
 "nbformat_minor": 5
}
