{
 "cells": [
  {
   "cell_type": "code",
   "execution_count": 15,
   "id": "220a0f29",
   "metadata": {},
   "outputs": [
    {
     "name": "stdout",
     "output_type": "stream",
     "text": [
      "Enter the Guessed Number40\n",
      "26\n",
      "Guess lower`\n",
      "Enter the Guessed Number23\n",
      "Guess Higher\n",
      "Enter the Guessed Number325\n",
      "Guess lower`\n",
      "Enter the Guessed Number26\n",
      "Correct guess\n",
      "You took 4 Attempts\n"
     ]
    }
   ],
   "source": [
    "import random \n",
    "\n",
    "jackpot_number= random.randint(1,100)\n",
    "counter = 1\n",
    "\n",
    "number = int(input(\"Enter the Guessed Number\"))\n",
    "\n",
    "while number !=  jackpot_number:\n",
    "    if number < jackpot_number:\n",
    "        print(\"Guess Higher\")\n",
    "    else:\n",
    "        print(\"Guess lower`\")\n",
    "        \n",
    "    number = int(input(\"Enter the Guessed Number\"))\n",
    "    counter+=1\n",
    "    \n",
    "print(\"Correct guess\")\n",
    "print(\"You took\", counter, \"Attempts\")"
   ]
  },
  {
   "cell_type": "code",
   "execution_count": null,
   "id": "c2cce507",
   "metadata": {},
   "outputs": [],
   "source": []
  },
  {
   "cell_type": "code",
   "execution_count": null,
   "id": "06abfac0",
   "metadata": {},
   "outputs": [],
   "source": []
  },
  {
   "cell_type": "code",
   "execution_count": null,
   "id": "4d29e98f",
   "metadata": {},
   "outputs": [],
   "source": []
  }
 ],
 "metadata": {
  "kernelspec": {
   "display_name": "Python 3 (ipykernel)",
   "language": "python",
   "name": "python3"
  },
  "language_info": {
   "codemirror_mode": {
    "name": "ipython",
    "version": 3
   },
   "file_extension": ".py",
   "mimetype": "text/x-python",
   "name": "python",
   "nbconvert_exporter": "python",
   "pygments_lexer": "ipython3",
   "version": "3.10.9"
  }
 },
 "nbformat": 4,
 "nbformat_minor": 5
}
