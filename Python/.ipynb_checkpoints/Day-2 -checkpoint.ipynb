{
 "cells": [
  {
   "cell_type": "markdown",
   "id": "2ba15e19",
   "metadata": {},
   "source": [
    "# OPERATORS\n",
    "\n",
    "Operators are used to performs opertion on varibles and values\n",
    "\n",
    "1. Arithmetic operator\n",
    "2. Compraision operator\n",
    "3. Logical operator\n",
    "4. Bitwise operator\n",
    "5. Assignment operator\n",
    "6. Identify operator\n",
    "7. Membership operator"
   ]
  }
 ],
 "metadata": {
  "kernelspec": {
   "display_name": "Python 3 (ipykernel)",
   "language": "python",
   "name": "python3"
  },
  "language_info": {
   "codemirror_mode": {
    "name": "ipython",
    "version": 3
   },
   "file_extension": ".py",
   "mimetype": "text/x-python",
   "name": "python",
   "nbconvert_exporter": "python",
   "pygments_lexer": "ipython3",
   "version": "3.10.9"
  }
 },
 "nbformat": 4,
 "nbformat_minor": 5
}
