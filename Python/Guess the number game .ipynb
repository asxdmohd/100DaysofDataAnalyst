{
 "cells": [
  {
   "cell_type": "code",
   "execution_count": null,
   "id": "c0036570",
   "metadata": {},
   "outputs": [],
   "source": [
    "# GUESS THE NUMBER GAME REVISION\n",
    "\n",
    "import random\n",
    "jackpot= random.randint(1,100)\n",
    "\n",
    "guess= int(input(\"Make a guess: \"))\n",
    "counter = 1\n",
    "while guess != jackpot:\n",
    "    if guess < jackpot:\n",
    "        print(\"Guess Higher\")\n",
    "    else: \n",
    "        print(\"Guess Lower\")\n",
    "    guess= int(input(\"Make a guess: \"))\n",
    "    counter+=1\n",
    "\n",
    "    \n",
    "print(\"Correct guess\")\n",
    "\n",
    "print(\"You took\", counter , \"Attempts\")\n"
   ]
  }
 ],
 "metadata": {
  "kernelspec": {
   "display_name": "Python 3 (ipykernel)",
   "language": "python",
   "name": "python3"
  },
  "language_info": {
   "codemirror_mode": {
    "name": "ipython",
    "version": 3
   },
   "file_extension": ".py",
   "mimetype": "text/x-python",
   "name": "python",
   "nbconvert_exporter": "python",
   "pygments_lexer": "ipython3",
   "version": "3.10.9"
  }
 },
 "nbformat": 4,
 "nbformat_minor": 5
}
