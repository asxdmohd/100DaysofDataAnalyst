{
 "cells": [
  {
   "cell_type": "code",
   "execution_count": 2,
   "id": "c0036570",
   "metadata": {},
   "outputs": [
    {
     "name": "stdout",
     "output_type": "stream",
     "text": [
      "Make a guess: 2\n",
      "Guess Higher\n",
      "Make a guess: 2\n",
      "Guess Higher\n",
      "Make a guess: 2\n",
      "Guess Higher\n",
      "Make a guess: 23\n",
      "Guess Higher\n",
      "Make a guess: 2\n",
      "Guess Higher\n",
      "Make a guess: 2\n",
      "Guess Higher\n",
      "Make a guess: 2\n",
      "Guess Higher\n",
      "Make a guess: 2\n",
      "Guess Higher\n",
      "Make a guess: 2\n",
      "Guess Higher\n",
      "Make a guess: 4154\n",
      "Guess Lower\n",
      "Make a guess: 55\n",
      "Guess Lower\n",
      "Make a guess: 41531453121\n",
      "Guess Lower\n",
      "Make a guess: 2321\n",
      "Guess Lower\n",
      "Make a guess: 2102\n",
      "Guess Lower\n",
      "Make a guess: 70\n",
      "Guess Lower\n",
      "Make a guess: 50\n",
      "Guess Lower\n",
      "Make a guess: 45\n",
      "Guess Higher\n",
      "Make a guess: 47\n",
      "Correct guess\n",
      "You took 18 Attempts\n"
     ]
    }
   ],
   "source": [
    "import random\n",
    "jackpot= random.randint(1,100)\n",
    "\n",
    "guess= int(input(\"Make a guess: \"))\n",
    "counter = 1\n",
    "while guess != jackpot:\n",
    "    if guess < jackpot:\n",
    "        print(\"Guess Higher\")\n",
    "    else: \n",
    "        print(\"Guess Lower\")\n",
    "    guess= int(input(\"Make a guess: \"))\n",
    "    counter+=1\n",
    "\n",
    "    \n",
    "print(\"Correct guess\")\n",
    "\n",
    "print(\"You took\", counter , \"Attempts\")\n"
   ]
  }
 ],
 "metadata": {
  "kernelspec": {
   "display_name": "Python 3 (ipykernel)",
   "language": "python",
   "name": "python3"
  },
  "language_info": {
   "codemirror_mode": {
    "name": "ipython",
    "version": 3
   },
   "file_extension": ".py",
   "mimetype": "text/x-python",
   "name": "python",
   "nbconvert_exporter": "python",
   "pygments_lexer": "ipython3",
   "version": "3.10.9"
  }
 },
 "nbformat": 4,
 "nbformat_minor": 5
}
